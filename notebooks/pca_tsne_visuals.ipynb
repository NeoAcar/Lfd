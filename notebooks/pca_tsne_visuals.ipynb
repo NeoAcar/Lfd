{
 "cells": [
  {
   "cell_type": "markdown",
   "id": "2d859151",
   "metadata": {},
   "source": [
    "# PCA & t-SNE Visualization of θ Space\n",
    "\n",
    "This notebook loads all `theta.pt` vectors (TinySIREN, TinySIREN+WT, or TinySIREN+WT+KFAC),\n",
    "applies PCA and t-SNE, and plots 2D embeddings colored by class.\n",
    "\n",
    "**Prerequisites**:\n",
    "- A folder of `theta.pt` files organized by class (e.g. `data/Thetas/TinySIREN_WT/ACDC_Subset/`)\n",
    "- `class_to_idx` JSON mapping (to find numeric labels or reverse-map for plotting).\n",
    "- Installed: `torch`, `numpy`, `scikit-learn`, `matplotlib`.\n"
   ]
  },
  {
   "cell_type": "code",
   "execution_count": null,
   "id": "60f51623",
   "metadata": {},
   "outputs": [],
   "source": [
    "import os\n",
    "import torch\n",
    "import numpy as np\n",
    "from sklearn.decomposition import PCA\n",
    "from sklearn.manifold import TSNE\n",
    "import matplotlib.pyplot as plt\n",
    "import json\n",
    "\n",
    "# Adjust these paths as needed:\n",
    "THETA_ROOT = \"D:\\Emin\\PythonProjects\\lfd_project\\data\\Thetas\\Baseline_SMALL_INR\\BRATS_Subset\"\n",
    "CLASS_TO_IDX_JSON = \"src/class_to_idx_acdc.json\"\n",
    "OUTPUT_DIR = \"results/pca_tsne_brats\"\n",
    "os.makedirs(OUTPUT_DIR, exist_ok=True)\n",
    "\n",
    "# Load class_to_idx, then build reverse map idx->class for labeling\n",
    "with open(CLASS_TO_IDX_JSON, \"r\") as f:\n",
    "    class_to_idx = json.load(f)\n",
    "idx_to_class = {v: k for k, v in class_to_idx.items()}\n"
   ]
  },
  {
   "cell_type": "markdown",
   "id": "d987598b",
   "metadata": {},
   "source": [
    "## 1. Load θ Vectors and Corresponding Labels\n"
   ]
  },
  {
   "cell_type": "code",
   "execution_count": null,
   "id": "404cacc0",
   "metadata": {},
   "outputs": [],
   "source": [
    "theta_paths = []\n",
    "labels = []\n",
    "for cls, idx in class_to_idx.items():\n",
    "    cls_dir = os.path.join(THETA_ROOT, cls)\n",
    "    if not os.path.isdir(cls_dir):\n",
    "        continue\n",
    "    for fname in os.listdir(cls_dir):\n",
    "        if fname.endswith(\"_theta.pt\"):\n",
    "            theta_paths.append(os.path.join(cls_dir, fname))\n",
    "            labels.append(idx)\n",
    "\n",
    "print(f\"Found {len(theta_paths)} theta files across {len(class_to_idx)} classes.\")\n",
    "thetas = [torch.load(p).numpy() for p in theta_paths]  # List of (D,) arrays\n",
    "thetas = np.stack(thetas, axis=0)  # Shape = (N, D)\n",
    "labels = np.array(labels)\n",
    "print(\"θ shape:\", thetas.shape, \"Labels shape:\", labels.shape)\n"
   ]
  },
  {
   "cell_type": "markdown",
   "id": "bcd7b5d3",
   "metadata": {},
   "source": [
    "## 2. PCA (2D) Embedding\n"
   ]
  },
  {
   "cell_type": "code",
   "execution_count": null,
   "id": "89346cc4",
   "metadata": {},
   "outputs": [],
   "source": [
    "pca2 = PCA(n_components=2)\n",
    "emb_pca2 = pca2.fit_transform(thetas)  # (N, 2)\n",
    "\n",
    "plt.figure(figsize=(6,6))\n",
    "for idx in np.unique(labels):\n",
    "    mask = (labels == idx)\n",
    "    plt.scatter(emb_pca2[mask, 0], emb_pca2[mask, 1],\n",
    "                label=idx_to_class[idx], s=15, alpha=0.7)\n",
    "plt.legend(loc=\"best\")\n",
    "plt.title(\"PCA(2) of θ Space\")\n",
    "plt.xlabel(\"PC1\")\n",
    "plt.ylabel(\"PC2\")\n",
    "plt.tight_layout()\n",
    "plt.savefig(os.path.join(OUTPUT_DIR, \"pca2d.png\"))\n",
    "plt.show()\n"
   ]
  },
  {
   "cell_type": "markdown",
   "id": "d2b63fa9",
   "metadata": {},
   "source": [
    "## 3. t-SNE (2D) Embedding\n",
    "\n",
    "- **Perplexity** = 30, **n_iter** = 1000 (may take a minute)\n"
   ]
  },
  {
   "cell_type": "code",
   "execution_count": null,
   "id": "0dae8272",
   "metadata": {},
   "outputs": [],
   "source": [
    "tsne = TSNE(n_components=2, perplexity=30, n_iter=1000, random_state=42)\n",
    "emb_tsne2 = tsne.fit_transform(thetas)  # (N, 2)\n",
    "\n",
    "plt.figure(figsize=(6,6))\n",
    "for idx in np.unique(labels):\n",
    "    mask = (labels == idx)\n",
    "    plt.scatter(emb_tsne2[mask, 0], emb_tsne2[mask, 1],\n",
    "                label=idx_to_class[idx], s=15, alpha=0.7)\n",
    "plt.legend(loc=\"best\")\n",
    "plt.title(\"t-SNE(2) of θ Space\")\n",
    "plt.xlabel(\"Dim 1\")\n",
    "plt.ylabel(\"Dim 2\")\n",
    "plt.tight_layout()\n",
    "plt.savefig(os.path.join(OUTPUT_DIR, \"tsne2d.png\"))\n",
    "plt.show()\n"
   ]
  },
  {
   "cell_type": "markdown",
   "id": "497be1aa",
   "metadata": {},
   "source": [
    "## 4. Compare a Few Points in θ Space\n",
    "\n",
    "Here we pick two θ vectors (one from class A, one from class B),\n",
    "reconstruct their MLP output on a small grid, and visualize differences.\n",
    "(Optional sanity check.)\n"
   ]
  },
  {
   "cell_type": "code",
   "execution_count": null,
   "id": "5edbb092",
   "metadata": {},
   "outputs": [],
   "source": [
    "from src.inr_models import TinySIREN\n",
    "\n",
    "def reconstruct_from_theta(theta_vec, omega_0=30.0, H=32, W=32):\n",
    "    \"\"\"\n",
    "    Reconstruct a low‐res image by sampling MLP on a coarse grid.\n",
    "    (Using TinySIREN structure; this is just for quick visualization.)\n",
    "    \"\"\"\n",
    "    model = TinySIREN(omega_0=omega_0)\n",
    "    # Load weights into model (matching flatten order)\n",
    "    pointer = 0\n",
    "    for param in model.parameters():\n",
    "        numel = param.numel()\n",
    "        vals = theta_vec[pointer : pointer + numel]\n",
    "        param.data = torch.from_numpy(vals.reshape(param.shape)).float()\n",
    "        pointer += numel\n",
    "\n",
    "    # Build a coarse grid of coords shape (H*W,2)\n",
    "    xs = np.linspace(0, 1, H)\n",
    "    ys = np.linspace(0, 1, W)\n",
    "    grid = np.stack(np.meshgrid(xs, ys, indexing=\"ij\"), axis=-1).reshape(-1,2)\n",
    "    coords = torch.from_numpy(grid.astype(np.float32)).to(model.layer1.linear.weight.device)\n",
    "    with torch.no_grad():\n",
    "        out = model(coords).cpu().numpy()\n",
    "    return out.reshape(H, W)\n",
    "\n",
    "# Pick one theta from class 0 and one from class 1 (if >=2 classes exist)\n",
    "cls0_idxs = np.where(labels == 0)[0]\n",
    "cls1_idxs = np.where(labels == 1)[0] if len(np.unique(labels)) > 1 else []\n",
    "idx0 = cls0_idxs[0]\n",
    "rec0 = reconstruct_from_theta(thetas[idx0], omega_0=30.0, H=64, W=64)\n",
    "\n",
    "plt.figure(figsize=(4,4))\n",
    "plt.imshow(rec0, cmap=\"gray\")\n",
    "plt.title(f\"Reconstruction of θ[{idx0}] ({idx_to_class[labels[idx0]]})\")\n",
    "plt.axis(\"off\")\n",
    "plt.show()\n",
    "\n",
    "if len(cls1_idxs) > 0:\n",
    "    idx1 = cls1_idxs[0]\n",
    "    rec1 = reconstruct_from_theta(thetas[idx1], omega_0=30.0, H=64, W=64)\n",
    "    plt.figure(figsize=(4,4))\n",
    "    plt.imshow(rec1, cmap=\"gray\")\n",
    "    plt.title(f\"Reconstruction of θ[{idx1}] ({idx_to_class[labels[idx1]]})\")\n",
    "    plt.axis(\"off\")\n",
    "    plt.show()\n"
   ]
  },
  {
   "cell_type": "markdown",
   "id": "3774155b",
   "metadata": {},
   "source": [
    "## 5. Conclusion\n",
    "\n",
    "- PCA(2) and t-SNE(2) plots show how θ vectors cluster by class.\n",
    "- You can adjust `perplexity` or `n_iter` for t-SNE to refine separation.\n",
    "- Next: measure numeric intra‐class / inter‐class distances or silhouette scores in code.\n"
   ]
  }
 ],
 "metadata": {
  "kernelspec": {
   "display_name": ".venv",
   "language": "python",
   "name": "python3"
  },
  "language_info": {
   "name": "python",
   "version": "3.10.4"
  }
 },
 "nbformat": 4,
 "nbformat_minor": 5
}
